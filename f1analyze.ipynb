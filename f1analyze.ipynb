{
  "cells": [
    {
      "cell_type": "code",
      "execution_count": 1,
      "metadata": {
        "id": "2AvtsXfQe5Wx"
      },
      "outputs": [],
      "source": [
        "import pandas as pd\n",
        "import numpy as np\n",
        "import matplotlib.pyplot as plt\n",
        "import seaborn as sns"
      ]
    },
    {
      "cell_type": "code",
      "execution_count": 3,
      "metadata": {
        "colab": {
          "base_uri": "https://localhost:8080/"
        },
        "id": "zyiIPCB7WnGc",
        "outputId": "25d54401-2ffe-4cfa-a9d4-5789c3702561"
      },
      "outputs": [
        {
          "name": "stdout",
          "output_type": "stream",
          "text": [
            "Drive already mounted at /content/drive; to attempt to forcibly remount, call drive.mount(\"/content/drive\", force_remount=True).\n"
          ]
        }
      ],
      "source": [
        "from google.colab import drive\n",
        "drive.mount('/content/drive')\n"
      ]
    },
    {
      "cell_type": "code",
      "execution_count": 4,
      "metadata": {
        "colab": {
          "base_uri": "https://localhost:8080/"
        },
        "id": "s9qUBqWObmOJ",
        "outputId": "5dc111b0-cefd-4825-d87b-36d269840320"
      },
      "outputs": [
        {
          "name": "stderr",
          "output_type": "stream",
          "text": [
            "<ipython-input-4-3cc974dcb0ca>:1: DtypeWarning: Columns (4,13,14,16,47) have mixed types. Specify dtype option on import or set low_memory=False.\n",
            "  td=pd.read_csv('/content/drive/My Drive/train.csv')\n"
          ]
        }
      ],
      "source": [
        "td=pd.read_csv('/content/drive/My Drive/train.csv')"
      ]
    },
    {
      "cell_type": "code",
      "execution_count": 5,
      "metadata": {
        "colab": {
          "base_uri": "https://localhost:8080/"
        },
        "id": "HUGOznbCb8po",
        "outputId": "63ab423e-3232-4b4b-d5b7-21bd4ffeb111"
      },
      "outputs": [
        {
          "data": {
            "text/plain": [
              "(2830101, 55)"
            ]
          },
          "execution_count": 5,
          "metadata": {},
          "output_type": "execute_result"
        }
      ],
      "source": [
        "td.shape"
      ]
    },
    {
      "cell_type": "code",
      "execution_count": 6,
      "metadata": {
        "colab": {
          "base_uri": "https://localhost:8080/"
        },
        "id": "Oixuf5RBdDS8",
        "outputId": "b134d0e2-f48e-441e-f480-5b25ecc58630"
      },
      "outputs": [
        {
          "name": "stderr",
          "output_type": "stream",
          "text": [
            "<ipython-input-6-25cfbd3fc7f8>:1: DtypeWarning: Columns (13,16) have mixed types. Specify dtype option on import or set low_memory=False.\n",
            "  test_data=pd.read_csv('/content/drive/My Drive/test.csv')\n"
          ]
        },
        {
          "data": {
            "text/plain": [
              "(352928, 53)"
            ]
          },
          "execution_count": 6,
          "metadata": {},
          "output_type": "execute_result"
        }
      ],
      "source": [
        "test_data=pd.read_csv('/content/drive/My Drive/test.csv')\n",
        "test_data.shape"
      ]
    },
    {
      "cell_type": "code",
      "execution_count": 7,
      "metadata": {
        "colab": {
          "base_uri": "https://localhost:8080/"
        },
        "id": "wK4CWaEMdOSr",
        "outputId": "da02cfde-def0-4d3d-cd6a-d5a1138d2239"
      },
      "outputs": [
        {
          "name": "stderr",
          "output_type": "stream",
          "text": [
            "<ipython-input-7-1e981cd5b925>:1: DtypeWarning: Columns (13,16,36) have mixed types. Specify dtype option on import or set low_memory=False.\n",
            "  val_data=pd.read_csv('/content/drive/My Drive/validation.csv')\n"
          ]
        },
        {
          "data": {
            "text/plain": [
              "(353762, 55)"
            ]
          },
          "execution_count": 7,
          "metadata": {},
          "output_type": "execute_result"
        }
      ],
      "source": [
        "val_data=pd.read_csv('/content/drive/My Drive/validation.csv')\n",
        "val_data.shape"
      ]
    },
    {
      "cell_type": "code",
      "execution_count": 8,
      "metadata": {
        "colab": {
          "base_uri": "https://localhost:8080/"
        },
        "id": "8Whzu_GseXn1",
        "outputId": "15057166-a513-4b44-a44e-3dfc0408d536"
      },
      "outputs": [
        {
          "name": "stdout",
          "output_type": "stream",
          "text": [
            "<class 'pandas.core.frame.DataFrame'>\n",
            "RangeIndex: 2830101 entries, 0 to 2830100\n",
            "Data columns (total 55 columns):\n",
            " #   Column                  Dtype  \n",
            "---  ------                  -----  \n",
            " 0   resultId                int64  \n",
            " 1   racerId                 int64  \n",
            " 2   driverId                int64  \n",
            " 3   constructorId           int64  \n",
            " 4   number                  object \n",
            " 5   grid                    int64  \n",
            " 6   position_x              object \n",
            " 7   positionText_x          object \n",
            " 8   positionOrder           int64  \n",
            " 9   points                  float64\n",
            " 10  laps                    int64  \n",
            " 11  time_x                  object \n",
            " 12  timetaken_in_millisec   object \n",
            " 13  fastestLap              object \n",
            " 14  rank                    object \n",
            " 15  fastestLapTime          object \n",
            " 16  max_speed               object \n",
            " 17  statusId                int64  \n",
            " 18  year                    int64  \n",
            " 19  round                   int64  \n",
            " 20  circuitId               int64  \n",
            " 21  grand_prix              object \n",
            " 22  date                    object \n",
            " 23  time_y                  object \n",
            " 24  url_x                   object \n",
            " 25  fp1_date                object \n",
            " 26  fp1_time                object \n",
            " 27  fp2_date                object \n",
            " 28  fp2_time                object \n",
            " 29  fp3_date                object \n",
            " 30  fp3_time                object \n",
            " 31  quali_date              object \n",
            " 32  quali_time              object \n",
            " 33  sprint_date             object \n",
            " 34  sprint_time             object \n",
            " 35  driverRef               object \n",
            " 36  driver_num              object \n",
            " 37  driver_code             object \n",
            " 38  forename                object \n",
            " 39  surname                 object \n",
            " 40  dob                     object \n",
            " 41  nationality             object \n",
            " 42  url_y                   object \n",
            " 43  driverStandingsId       int64  \n",
            " 44  raceId_y                int64  \n",
            " 45  points_y                float64\n",
            " 46  position                int64  \n",
            " 47  positionText_y          object \n",
            " 48  wins                    int64  \n",
            " 49  constructorRef          object \n",
            " 50  company                 object \n",
            " 51  nationality_y           object \n",
            " 52  url                     object \n",
            " 53  status                  object \n",
            " 54  result_driver_standing  int64  \n",
            "dtypes: float64(2), int64(16), object(37)\n",
            "memory usage: 1.2+ GB\n"
          ]
        }
      ],
      "source": [
        "td.info()"
      ]
    },
    {
      "cell_type": "code",
      "execution_count": 9,
      "metadata": {
        "colab": {
          "base_uri": "https://localhost:8080/"
        },
        "id": "gJgLvkreel_e",
        "outputId": "66c5d6dd-d708-47ec-aa57-a8ff0b671da7"
      },
      "outputs": [
        {
          "name": "stdout",
          "output_type": "stream",
          "text": [
            "0 0 0\n"
          ]
        }
      ],
      "source": [
        "print(val_data.duplicated().sum(),td.duplicated().sum(),test_data.duplicated().sum())"
      ]
    },
    {
      "cell_type": "code",
      "execution_count": 10,
      "metadata": {
        "id": "rYLFPbP3k-fR"
      },
      "outputs": [],
      "source": [
        "td.replace('\\\\N', np.nan, inplace=True)"
      ]
    },
    {
      "cell_type": "code",
      "execution_count": 11,
      "metadata": {
        "id": "rO9ct-HF-0sb"
      },
      "outputs": [],
      "source": [
        "val_data.replace('\\\\N', np.nan, inplace=True)\n",
        "test_data.replace('\\\\N', np.nan, inplace=True)"
      ]
    },
    {
      "cell_type": "code",
      "execution_count": 12,
      "metadata": {
        "colab": {
          "base_uri": "https://localhost:8080/"
        },
        "id": "0ItnNyzhlMOx",
        "outputId": "7c49bca3-775d-4478-94c5-520ecedf5d4c"
      },
      "outputs": [
        {
          "name": "stdout",
          "output_type": "stream",
          "text": [
            "<class 'pandas.core.frame.DataFrame'>\n",
            "RangeIndex: 2830101 entries, 0 to 2830100\n",
            "Data columns (total 55 columns):\n",
            " #   Column                  Dtype  \n",
            "---  ------                  -----  \n",
            " 0   resultId                int64  \n",
            " 1   racerId                 int64  \n",
            " 2   driverId                int64  \n",
            " 3   constructorId           int64  \n",
            " 4   number                  object \n",
            " 5   grid                    int64  \n",
            " 6   position_x              object \n",
            " 7   positionText_x          object \n",
            " 8   positionOrder           int64  \n",
            " 9   points                  float64\n",
            " 10  laps                    int64  \n",
            " 11  time_x                  object \n",
            " 12  timetaken_in_millisec   object \n",
            " 13  fastestLap              object \n",
            " 14  rank                    object \n",
            " 15  fastestLapTime          object \n",
            " 16  max_speed               object \n",
            " 17  statusId                int64  \n",
            " 18  year                    int64  \n",
            " 19  round                   int64  \n",
            " 20  circuitId               int64  \n",
            " 21  grand_prix              object \n",
            " 22  date                    object \n",
            " 23  time_y                  object \n",
            " 24  url_x                   object \n",
            " 25  fp1_date                float64\n",
            " 26  fp1_time                float64\n",
            " 27  fp2_date                float64\n",
            " 28  fp2_time                float64\n",
            " 29  fp3_date                float64\n",
            " 30  fp3_time                float64\n",
            " 31  quali_date              float64\n",
            " 32  quali_time              float64\n",
            " 33  sprint_date             float64\n",
            " 34  sprint_time             float64\n",
            " 35  driverRef               object \n",
            " 36  driver_num              object \n",
            " 37  driver_code             object \n",
            " 38  forename                object \n",
            " 39  surname                 object \n",
            " 40  dob                     object \n",
            " 41  nationality             object \n",
            " 42  url_y                   object \n",
            " 43  driverStandingsId       int64  \n",
            " 44  raceId_y                int64  \n",
            " 45  points_y                float64\n",
            " 46  position                int64  \n",
            " 47  positionText_y          object \n",
            " 48  wins                    int64  \n",
            " 49  constructorRef          object \n",
            " 50  company                 object \n",
            " 51  nationality_y           object \n",
            " 52  url                     object \n",
            " 53  status                  object \n",
            " 54  result_driver_standing  int64  \n",
            "dtypes: float64(12), int64(16), object(27)\n",
            "memory usage: 1.2+ GB\n"
          ]
        }
      ],
      "source": [
        "td.info()"
      ]
    },
    {
      "cell_type": "code",
      "execution_count": 13,
      "metadata": {
        "colab": {
          "base_uri": "https://localhost:8080/"
        },
        "id": "Q91hdBgidq9Z",
        "outputId": "301dd812-adfa-491c-e08a-83fba4072857"
      },
      "outputs": [
        {
          "data": {
            "text/plain": [
              "['position', 'positionText_y']"
            ]
          },
          "execution_count": 13,
          "metadata": {},
          "output_type": "execute_result"
        }
      ],
      "source": [
        "difference = [i for i in td.columns if i not in test_data.columns]\n",
        "difference"
      ]
    },
    {
      "cell_type": "code",
      "execution_count": 14,
      "metadata": {
        "colab": {
          "base_uri": "https://localhost:8080/"
        },
        "id": "LZqxcnzrit7V",
        "outputId": "3bf9d6b4-5664-4862-8441-66e7cbba3007"
      },
      "outputs": [
        {
          "data": {
            "text/plain": [
              "positionText_y\n",
              "1      91412\n",
              "2      87227\n",
              "3      80029\n",
              "4      79439\n",
              "1      78543\n",
              "       ...  \n",
              "103        4\n",
              "106        3\n",
              "105        3\n",
              "108        1\n",
              "107        1\n",
              "Name: count, Length: 155, dtype: int64"
            ]
          },
          "execution_count": 14,
          "metadata": {},
          "output_type": "execute_result"
        }
      ],
      "source": [
        "td.positionText_y.value_counts()"
      ]
    },
    {
      "cell_type": "code",
      "execution_count": 15,
      "metadata": {
        "id": "mHNFNF28vX-4"
      },
      "outputs": [],
      "source": [
        "import pandas as pd\n",
        "\n",
        "columns_to_keep = [\n",
        "    'resultId', 'racerId', 'driverId', 'constructorId', 'grid', 'position_x',\n",
        "    'positionText_x', 'positionOrder', 'points', 'laps', 'statusId', 'year',\n",
        "    'round', 'circuitId', 'date', 'driverRef', 'dob', 'nationality',\n",
        "    'driverStandingsId', 'raceId_y', 'points_y', 'position', 'wins',\n",
        "    'constructorRef', 'nationality_y', 'status', 'result_driver_standing'\n",
        "]\n",
        "\n",
        "td = td.drop(td.columns.difference(columns_to_keep), axis=1)\n"
      ]
    },
    {
      "cell_type": "code",
      "execution_count": 16,
      "metadata": {
        "id": "TRUkZIxc_D_z"
      },
      "outputs": [],
      "source": [
        "import pandas as pd\n",
        "\n",
        "columns_to_keep = [\n",
        "    'resultId', 'racerId', 'driverId', 'constructorId', 'grid', 'position_x',\n",
        "    'positionText_x', 'positionOrder', 'points', 'laps', 'statusId', 'year',\n",
        "    'round', 'circuitId', 'date', 'driverRef', 'dob', 'nationality',\n",
        "    'driverStandingsId', 'raceId_y', 'points_y', 'position', 'wins',\n",
        "    'constructorRef', 'nationality_y', 'status', 'result_driver_standing'\n",
        "]\n",
        "\n",
        "val_data = val_data.drop(val_data.columns.difference(columns_to_keep), axis=1)\n"
      ]
    },
    {
      "cell_type": "code",
      "execution_count": 17,
      "metadata": {
        "id": "jvOBh2EV_R41"
      },
      "outputs": [],
      "source": [
        "import pandas as pd\n",
        "\n",
        "columns_to_keep = [\n",
        "    'resultId', 'racerId', 'driverId', 'constructorId', 'grid', 'position_x',\n",
        "    'positionText_x', 'positionOrder', 'points', 'laps', 'statusId', 'year',\n",
        "    'round', 'circuitId', 'date', 'driverRef', 'dob', 'nationality',\n",
        "    'driverStandingsId', 'raceId_y', 'points_y', 'wins',\n",
        "    'constructorRef', 'nationality_y', 'status', 'result_driver_standing'\n",
        "]\n",
        "\n",
        "test_data = test_data.drop(test_data.columns.difference(columns_to_keep), axis=1)\n"
      ]
    },
    {
      "cell_type": "code",
      "execution_count": 18,
      "metadata": {
        "colab": {
          "base_uri": "https://localhost:8080/"
        },
        "id": "kbXCx7yZvezt",
        "outputId": "e8b5c307-8034-4ec9-af84-a8e705b9ce01"
      },
      "outputs": [
        {
          "data": {
            "text/plain": [
              "(2830101, 27)"
            ]
          },
          "execution_count": 18,
          "metadata": {},
          "output_type": "execute_result"
        }
      ],
      "source": [
        "td.shape"
      ]
    },
    {
      "cell_type": "code",
      "execution_count": 19,
      "metadata": {
        "colab": {
          "base_uri": "https://localhost:8080/"
        },
        "id": "nE-9P-jPvpKd",
        "outputId": "30965cca-cded-492b-b5b0-b147e6670ef8"
      },
      "outputs": [
        {
          "data": {
            "text/plain": [
              "resultId                        0\n",
              "racerId                         0\n",
              "driverId                        0\n",
              "constructorId                   0\n",
              "grid                            0\n",
              "position_x                1125357\n",
              "positionText_x                  0\n",
              "positionOrder                   0\n",
              "points                          0\n",
              "laps                            0\n",
              "statusId                        0\n",
              "year                            0\n",
              "round                           0\n",
              "circuitId                       0\n",
              "date                            0\n",
              "driverRef                       0\n",
              "dob                             0\n",
              "nationality                     0\n",
              "driverStandingsId               0\n",
              "raceId_y                        0\n",
              "points_y                        0\n",
              "position                        0\n",
              "wins                            0\n",
              "constructorRef                  0\n",
              "nationality_y                   0\n",
              "status                          0\n",
              "result_driver_standing          0\n",
              "dtype: int64"
            ]
          },
          "execution_count": 19,
          "metadata": {},
          "output_type": "execute_result"
        }
      ],
      "source": [
        "td.isnull().sum()"
      ]
    },
    {
      "cell_type": "code",
      "execution_count": 20,
      "metadata": {
        "colab": {
          "base_uri": "https://localhost:8080/"
        },
        "id": "GZ_eaoxuv17f",
        "outputId": "caca1cfa-7e70-40b1-9822-dd8732b70476"
      },
      "outputs": [
        {
          "data": {
            "text/plain": [
              "positionText_x\n",
              "R     980311\n",
              "1     173496\n",
              "2     167146\n",
              "3     158857\n",
              "4     147906\n",
              "5     143298\n",
              "6     131115\n",
              "7     120458\n",
              "8     108424\n",
              "9     103006\n",
              "10     95492\n",
              "F      88530\n",
              "11     80894\n",
              "12     67167\n",
              "13     56896\n",
              "14     41150\n",
              "15     35668\n",
              "16     26162\n",
              "W      23962\n",
              "17     19313\n",
              "D      16359\n",
              "N      15206\n",
              "18     11633\n",
              "19      8454\n",
              "20      3374\n",
              "21      2421\n",
              "22      1922\n",
              "E        562\n",
              "23       556\n",
              "24       134\n",
              "27        41\n",
              "31        35\n",
              "32        33\n",
              "26        25\n",
              "25        24\n",
              "30        24\n",
              "29        16\n",
              "33        16\n",
              "28        15\n",
              "Name: count, dtype: int64"
            ]
          },
          "execution_count": 20,
          "metadata": {},
          "output_type": "execute_result"
        }
      ],
      "source": [
        "td.positionText_x.value_counts()"
      ]
    },
    {
      "cell_type": "code",
      "execution_count": 21,
      "metadata": {
        "id": "PVBHXKjUwBqT"
      },
      "outputs": [],
      "source": [
        "td.drop(columns={'positionText_x','positionOrder','position_x'},inplace=True)"
      ]
    },
    {
      "cell_type": "code",
      "execution_count": 22,
      "metadata": {
        "id": "opYCoZqe_gKH"
      },
      "outputs": [],
      "source": [
        "val_data.drop(columns={'positionText_x','positionOrder','position_x'},inplace=True)\n",
        "test_data.drop(columns={'positionText_x','positionOrder','position_x'},inplace=True)"
      ]
    },
    {
      "cell_type": "code",
      "execution_count": 23,
      "metadata": {
        "colab": {
          "base_uri": "https://localhost:8080/"
        },
        "id": "k1ZkfVuHyTnO",
        "outputId": "73c2c58c-ca93-4605-c1fe-e4cbd301e419"
      },
      "outputs": [
        {
          "data": {
            "text/plain": [
              "Index(['resultId', 'racerId', 'driverId', 'constructorId', 'grid', 'points',\n",
              "       'laps', 'statusId', 'year', 'round', 'circuitId', 'date', 'driverRef',\n",
              "       'dob', 'nationality', 'driverStandingsId', 'raceId_y', 'points_y',\n",
              "       'position', 'wins', 'constructorRef', 'nationality_y', 'status',\n",
              "       'result_driver_standing'],\n",
              "      dtype='object')"
            ]
          },
          "execution_count": 23,
          "metadata": {},
          "output_type": "execute_result"
        }
      ],
      "source": [
        "td.columns"
      ]
    },
    {
      "cell_type": "code",
      "execution_count": 24,
      "metadata": {
        "colab": {
          "base_uri": "https://localhost:8080/"
        },
        "id": "T5i2FlVhyq4U",
        "outputId": "c124a88c-a35f-4949-af99-3c5a1aa79adf"
      },
      "outputs": [
        {
          "name": "stdout",
          "output_type": "stream",
          "text": [
            "<class 'pandas.core.frame.DataFrame'>\n",
            "RangeIndex: 2830101 entries, 0 to 2830100\n",
            "Data columns (total 24 columns):\n",
            " #   Column                  Dtype  \n",
            "---  ------                  -----  \n",
            " 0   resultId                int64  \n",
            " 1   racerId                 int64  \n",
            " 2   driverId                int64  \n",
            " 3   constructorId           int64  \n",
            " 4   grid                    int64  \n",
            " 5   points                  float64\n",
            " 6   laps                    int64  \n",
            " 7   statusId                int64  \n",
            " 8   year                    int64  \n",
            " 9   round                   int64  \n",
            " 10  circuitId               int64  \n",
            " 11  date                    object \n",
            " 12  driverRef               object \n",
            " 13  dob                     object \n",
            " 14  nationality             object \n",
            " 15  driverStandingsId       int64  \n",
            " 16  raceId_y                int64  \n",
            " 17  points_y                float64\n",
            " 18  position                int64  \n",
            " 19  wins                    int64  \n",
            " 20  constructorRef          object \n",
            " 21  nationality_y           object \n",
            " 22  status                  object \n",
            " 23  result_driver_standing  int64  \n",
            "dtypes: float64(2), int64(15), object(7)\n",
            "memory usage: 518.2+ MB\n"
          ]
        }
      ],
      "source": [
        "td.info()"
      ]
    },
    {
      "cell_type": "code",
      "execution_count": 25,
      "metadata": {
        "colab": {
          "base_uri": "https://localhost:8080/"
        },
        "id": "1SIzodzC-ezd",
        "outputId": "e0536364-db2f-4cba-de33-0144b6ae143f"
      },
      "outputs": [
        {
          "name": "stdout",
          "output_type": "stream",
          "text": [
            "352928\n",
            "352928\n",
            "352928\n",
            "352928\n",
            "352928\n"
          ]
        }
      ],
      "source": [
        "result_id_in_test_set = [i for i in test_data.resultId if i in td.resultId]\n",
        "print(len(result_id_in_test_set))\n",
        "\n",
        "racer_id_in_test_set = [i for i in test_data.racerId if i in td.racerId]\n",
        "print(len(racer_id_in_test_set))\n",
        "\n",
        "circuit_id_in_test_set = [i for i in test_data.circuitId if i in td.circuitId]\n",
        "print(len(circuit_id_in_test_set))\n",
        "\n",
        "constructor_id_in_test_set = [i for i in test_data.constructorId if i in td.constructorId]\n",
        "print(len(constructor_id_in_test_set))\n",
        "\n",
        "year_in_test_set=[i for i in test_data.year if i in td.year]\n",
        "print(len(year_in_test_set))\n"
      ]
    },
    {
      "cell_type": "code",
      "execution_count": 26,
      "metadata": {
        "colab": {
          "base_uri": "https://localhost:8080/"
        },
        "id": "_5tw4t68GhuM",
        "outputId": "57bc662a-6a3f-4116-c0ba-3e5230200a55"
      },
      "outputs": [
        {
          "name": "stdout",
          "output_type": "stream",
          "text": [
            "        driverRef         dob  age\n",
            "0          farina  1906-10-30  117\n",
            "1          farina  1906-10-30  117\n",
            "2          farina  1906-10-30  117\n",
            "3          farina  1906-10-30  117\n",
            "4          farina  1906-10-30  117\n",
            "...           ...         ...  ...\n",
            "2830096    webber  1976-08-27   47\n",
            "2830097    webber  1976-08-27   47\n",
            "2830098    webber  1976-08-27   47\n",
            "2830099    webber  1976-08-27   47\n",
            "2830100    webber  1976-08-27   47\n",
            "\n",
            "[2830101 rows x 3 columns] age\n",
            "44     148090\n",
            "55     126399\n",
            "52     114410\n",
            "70     111844\n",
            "53     106111\n",
            "        ...  \n",
            "126        96\n",
            "123        44\n",
            "125        25\n",
            "122         3\n",
            "120         1\n",
            "Name: count, Length: 96, dtype: int64\n"
          ]
        }
      ],
      "source": [
        "from datetime import datetime\n",
        "def calculate_age(dob):\n",
        "    dob_date = datetime.strptime(dob, '%Y-%m-%d')\n",
        "    current_date = datetime.now()\n",
        "    age = current_date.year - dob_date.year - ((current_date.month, current_date.day) < (dob_date.month, dob_date.day))\n",
        "    return age\n",
        "\n",
        "td['age'] = td['dob'].apply(calculate_age)\n",
        "\n",
        "print(td[['driverRef', 'dob', 'age']], td.age.value_counts())\n"
      ]
    },
    {
      "cell_type": "code",
      "execution_count": 27,
      "metadata": {
        "id": "upcj3HBcHu9w"
      },
      "outputs": [],
      "source": [
        "td.drop(columns={'age','date','dob'},axis=1,inplace=True)"
      ]
    },
    {
      "cell_type": "code",
      "execution_count": 28,
      "metadata": {
        "id": "HBEaTnKIG_hO"
      },
      "outputs": [],
      "source": [
        "val_data.drop(columns={'date','dob'},axis=1,inplace=True)\n",
        "test_data.drop(columns={'date','dob'},axis=1,inplace=True)"
      ]
    },
    {
      "cell_type": "code",
      "execution_count": 29,
      "metadata": {
        "colab": {
          "base_uri": "https://localhost:8080/"
        },
        "id": "cvCVjFLq90Yf",
        "outputId": "ec5a515d-73ff-4b81-fd46-509dc402dd30"
      },
      "outputs": [
        {
          "data": {
            "text/plain": [
              "816"
            ]
          },
          "execution_count": 29,
          "metadata": {},
          "output_type": "execute_result"
        }
      ],
      "source": [
        "td.driverRef.nunique()"
      ]
    },
    {
      "cell_type": "code",
      "execution_count": 30,
      "metadata": {
        "colab": {
          "base_uri": "https://localhost:8080/"
        },
        "id": "_vSC6Yeh9h2y",
        "outputId": "9431e018-ceac-4b12-a544-455050553cd3"
      },
      "outputs": [
        {
          "data": {
            "text/plain": [
              "statusId\n",
              "1      957905\n",
              "11     387217\n",
              "5      230549\n",
              "12     144977\n",
              "4      106487\n",
              "        ...  \n",
              "72         25\n",
              "92         25\n",
              "59         25\n",
              "87         25\n",
              "107        16\n",
              "Name: count, Length: 128, dtype: int64"
            ]
          },
          "execution_count": 30,
          "metadata": {},
          "output_type": "execute_result"
        }
      ],
      "source": [
        "td.statusId.value_counts()"
      ]
    },
    {
      "cell_type": "code",
      "execution_count": 31,
      "metadata": {
        "colab": {
          "base_uri": "https://localhost:8080/"
        },
        "id": "eiwgg_9iIlfy",
        "outputId": "8ec93aac-a01c-4988-d373-5f5ca282ec6e"
      },
      "outputs": [
        {
          "data": {
            "text/plain": [
              "status\n",
              "Finished          957905\n",
              "+1 Lap            387217\n",
              "Engine            230549\n",
              "+2 Laps           144977\n",
              "Collision         106487\n",
              "                   ...  \n",
              "Launch control        25\n",
              "Underweight           25\n",
              "Tyre puncture         25\n",
              "Crankshaft            25\n",
              "Eye injury            16\n",
              "Name: count, Length: 128, dtype: int64"
            ]
          },
          "execution_count": 31,
          "metadata": {},
          "output_type": "execute_result"
        }
      ],
      "source": [
        "td.status.value_counts()"
      ]
    },
    {
      "cell_type": "code",
      "execution_count": 32,
      "metadata": {
        "colab": {
          "base_uri": "https://localhost:8080/"
        },
        "id": "3nff3lFaI2lE",
        "outputId": "9d15339f-f804-4ae3-f9f0-f6a0c2c1f4e9"
      },
      "outputs": [
        {
          "data": {
            "text/plain": [
              "driverId\n",
              "22     100408\n",
              "30      96404\n",
              "4       80352\n",
              "18      79608\n",
              "8       68482\n",
              "        ...  \n",
              "493         1\n",
              "355         1\n",
              "395         1\n",
              "761         1\n",
              "760         1\n",
              "Name: count, Length: 816, dtype: int64"
            ]
          },
          "execution_count": 32,
          "metadata": {},
          "output_type": "execute_result"
        }
      ],
      "source": [
        "td.driverId.value_counts()"
      ]
    },
    {
      "cell_type": "code",
      "execution_count": 33,
      "metadata": {
        "colab": {
          "base_uri": "https://localhost:8080/"
        },
        "id": "eCqpIPY_JaYH",
        "outputId": "49c6ef88-cb2f-4ab9-e46e-15783076aadf"
      },
      "outputs": [
        {
          "data": {
            "text/plain": [
              "driverRef\n",
              "barrichello           100408\n",
              "michael_schumacher     96404\n",
              "alonso                 80352\n",
              "button                 79608\n",
              "raikkonen              68482\n",
              "                       ...  \n",
              "ryan                       1\n",
              "Cannoc                     1\n",
              "williams                   1\n",
              "crespo                     1\n",
              "dusio                      1\n",
              "Name: count, Length: 816, dtype: int64"
            ]
          },
          "execution_count": 33,
          "metadata": {},
          "output_type": "execute_result"
        }
      ],
      "source": [
        "td.driverRef.value_counts()"
      ]
    },
    {
      "cell_type": "code",
      "execution_count": 34,
      "metadata": {
        "colab": {
          "base_uri": "https://localhost:8080/"
        },
        "id": "NvTvuj9uL93A",
        "outputId": "692e17bb-1e5b-4b48-a84b-4b2c20ea8949"
      },
      "outputs": [
        {
          "data": {
            "text/plain": [
              "racerId\n",
              "371    4689\n",
              "365    4681\n",
              "367    4660\n",
              "366    4644\n",
              "364    4633\n",
              "       ... \n",
              "833     524\n",
              "827     462\n",
              "754     457\n",
              "899     437\n",
              "837     379\n",
              "Name: count, Length: 897, dtype: int64"
            ]
          },
          "execution_count": 34,
          "metadata": {},
          "output_type": "execute_result"
        }
      ],
      "source": [
        "td.racerId.value_counts()"
      ]
    },
    {
      "cell_type": "code",
      "execution_count": 35,
      "metadata": {
        "id": "K_1oUnowFaKe"
      },
      "outputs": [],
      "source": [
        "td.drop(columns={'constructorId','driverId','statusId'},axis=1,inplace=True)"
      ]
    },
    {
      "cell_type": "code",
      "execution_count": 36,
      "metadata": {
        "id": "zFaAOY0XHShq"
      },
      "outputs": [],
      "source": [
        "val_data.drop(columns={'constructorId','driverId','statusId'},axis=1,inplace=True)\n",
        "test_data.drop(columns={'constructorId','driverId','statusId'},axis=1,inplace=True)"
      ]
    },
    {
      "cell_type": "code",
      "execution_count": 37,
      "metadata": {
        "colab": {
          "base_uri": "https://localhost:8080/"
        },
        "id": "dCpiB_k-J1NT",
        "outputId": "9b637b6a-d95a-4969-85a1-0cdb96cec906"
      },
      "outputs": [
        {
          "name": "stdout",
          "output_type": "stream",
          "text": [
            "<class 'pandas.core.frame.DataFrame'>\n",
            "RangeIndex: 2830101 entries, 0 to 2830100\n",
            "Data columns (total 19 columns):\n",
            " #   Column                  Dtype  \n",
            "---  ------                  -----  \n",
            " 0   resultId                int64  \n",
            " 1   racerId                 int64  \n",
            " 2   grid                    int64  \n",
            " 3   points                  float64\n",
            " 4   laps                    int64  \n",
            " 5   year                    int64  \n",
            " 6   round                   int64  \n",
            " 7   circuitId               int64  \n",
            " 8   driverRef               object \n",
            " 9   nationality             object \n",
            " 10  driverStandingsId       int64  \n",
            " 11  raceId_y                int64  \n",
            " 12  points_y                float64\n",
            " 13  position                int64  \n",
            " 14  wins                    int64  \n",
            " 15  constructorRef          object \n",
            " 16  nationality_y           object \n",
            " 17  status                  object \n",
            " 18  result_driver_standing  int64  \n",
            "dtypes: float64(2), int64(12), object(5)\n",
            "memory usage: 410.2+ MB\n"
          ]
        }
      ],
      "source": [
        "td.info()"
      ]
    },
    {
      "cell_type": "code",
      "execution_count": 38,
      "metadata": {
        "colab": {
          "base_uri": "https://localhost:8080/"
        },
        "id": "z26RrT2ULeye",
        "outputId": "12f7bb26-0dfc-4a27-dde0-ec5f1415c7c5"
      },
      "outputs": [
        {
          "name": "stdout",
          "output_type": "stream",
          "text": [
            "Collecting category_encoders\n",
            "  Downloading category_encoders-2.6.3-py2.py3-none-any.whl (81 kB)\n",
            "\u001b[2K     \u001b[90m━━━━━━━━━━━━━━━━━━━━━━━━━━━━━━━━━━━━━━━━\u001b[0m \u001b[32m81.9/81.9 kB\u001b[0m \u001b[31m3.0 MB/s\u001b[0m eta \u001b[36m0:00:00\u001b[0m\n",
            "\u001b[?25hRequirement already satisfied: numpy>=1.14.0 in /usr/local/lib/python3.10/dist-packages (from category_encoders) (1.25.2)\n",
            "Requirement already satisfied: scikit-learn>=0.20.0 in /usr/local/lib/python3.10/dist-packages (from category_encoders) (1.2.2)\n",
            "Requirement already satisfied: scipy>=1.0.0 in /usr/local/lib/python3.10/dist-packages (from category_encoders) (1.11.4)\n",
            "Requirement already satisfied: statsmodels>=0.9.0 in /usr/local/lib/python3.10/dist-packages (from category_encoders) (0.14.2)\n",
            "Requirement already satisfied: pandas>=1.0.5 in /usr/local/lib/python3.10/dist-packages (from category_encoders) (2.0.3)\n",
            "Requirement already satisfied: patsy>=0.5.1 in /usr/local/lib/python3.10/dist-packages (from category_encoders) (0.5.6)\n",
            "Requirement already satisfied: python-dateutil>=2.8.2 in /usr/local/lib/python3.10/dist-packages (from pandas>=1.0.5->category_encoders) (2.8.2)\n",
            "Requirement already satisfied: pytz>=2020.1 in /usr/local/lib/python3.10/dist-packages (from pandas>=1.0.5->category_encoders) (2023.4)\n",
            "Requirement already satisfied: tzdata>=2022.1 in /usr/local/lib/python3.10/dist-packages (from pandas>=1.0.5->category_encoders) (2024.1)\n",
            "Requirement already satisfied: six in /usr/local/lib/python3.10/dist-packages (from patsy>=0.5.1->category_encoders) (1.16.0)\n",
            "Requirement already satisfied: joblib>=1.1.1 in /usr/local/lib/python3.10/dist-packages (from scikit-learn>=0.20.0->category_encoders) (1.4.2)\n",
            "Requirement already satisfied: threadpoolctl>=2.0.0 in /usr/local/lib/python3.10/dist-packages (from scikit-learn>=0.20.0->category_encoders) (3.5.0)\n",
            "Requirement already satisfied: packaging>=21.3 in /usr/local/lib/python3.10/dist-packages (from statsmodels>=0.9.0->category_encoders) (24.1)\n",
            "Installing collected packages: category_encoders\n",
            "Successfully installed category_encoders-2.6.3\n"
          ]
        }
      ],
      "source": [
        "from sklearn.compose import ColumnTransformer\n",
        "from sklearn.pipeline import Pipeline\n",
        "from sklearn.preprocessing import StandardScaler\n",
        "!pip install category_encoders\n",
        "import category_encoders as ce"
      ]
    },
    {
      "cell_type": "code",
      "execution_count": 39,
      "metadata": {
        "colab": {
          "base_uri": "https://localhost:8080/",
          "height": 89
        },
        "id": "1bAIHnmYdQ3p",
        "outputId": "e7ed9f6b-efa4-4cde-b63f-7d3a7960aa6c"
      },
      "outputs": [
        {
          "data": {
            "application/vnd.google.colaboratory.intrinsic+json": {
              "type": "string"
            },
            "text/plain": [
              "\"columns_to_encode = ['resultId', 'racerId', 'circuitId', 'driverRef', 'nationality', \\n                     'driverStandingsId', 'raceId_y', 'constructorRef', 'nationality_y', 'status']\\n\\npreprocessor = ColumnTransformer(\\n    transformers=[\\n        ('binary', ce.BinaryEncoder(), columns_to_encode)\\n    ],\\n    remainder='passthrough'\\n)\\n\\npipeline = Pipeline(steps=[\\n    ('preprocessor', preprocessor),\\n])\\n\\ntd_encoded = pipeline.fit_transform(td)\\n\\ntd_encoded = pd.DataFrame(td_encoded, columns=pipeline.named_steps['preprocessor'].get_feature_names_out())\\n\""
            ]
          },
          "execution_count": 39,
          "metadata": {},
          "output_type": "execute_result"
        }
      ],
      "source": [
        "'''columns_to_encode = ['resultId', 'racerId', 'circuitId', 'driverRef', 'nationality',\n",
        "                     'driverStandingsId', 'raceId_y', 'constructorRef', 'nationality_y', 'status']\n",
        "\n",
        "preprocessor = ColumnTransformer(\n",
        "    transformers=[\n",
        "        ('binary', ce.BinaryEncoder(), columns_to_encode)\n",
        "    ],\n",
        "    remainder='passthrough'\n",
        ")\n",
        "\n",
        "pipeline = Pipeline(steps=[\n",
        "    ('preprocessor', preprocessor),\n",
        "])\n",
        "\n",
        "td_encoded = pipeline.fit_transform(td)\n",
        "\n",
        "td_encoded = pd.DataFrame(td_encoded, columns=pipeline.named_steps['preprocessor'].get_feature_names_out())\n",
        "'''"
      ]
    },
    {
      "cell_type": "code",
      "execution_count": 39,
      "metadata": {
        "id": "FNdYy76BkNO6"
      },
      "outputs": [],
      "source": []
    },
    {
      "cell_type": "code",
      "execution_count": 40,
      "metadata": {
        "colab": {
          "base_uri": "https://localhost:8080/",
          "height": 256
        },
        "id": "cooRrDVwkSXG",
        "outputId": "ebbcbc4d-a810-43f3-e6fa-4cbceedc69ca"
      },
      "outputs": [
        {
          "data": {
            "application/vnd.google.colaboratory.intrinsic+json": {
              "type": "dataframe",
              "variable_name": "td"
            },
            "text/html": [
              "\n",
              "  <div id=\"df-830e4f5b-825b-483a-a339-ff535aae9184\" class=\"colab-df-container\">\n",
              "    <div>\n",
              "<style scoped>\n",
              "    .dataframe tbody tr th:only-of-type {\n",
              "        vertical-align: middle;\n",
              "    }\n",
              "\n",
              "    .dataframe tbody tr th {\n",
              "        vertical-align: top;\n",
              "    }\n",
              "\n",
              "    .dataframe thead th {\n",
              "        text-align: right;\n",
              "    }\n",
              "</style>\n",
              "<table border=\"1\" class=\"dataframe\">\n",
              "  <thead>\n",
              "    <tr style=\"text-align: right;\">\n",
              "      <th></th>\n",
              "      <th>grid</th>\n",
              "      <th>points</th>\n",
              "      <th>laps</th>\n",
              "      <th>year</th>\n",
              "      <th>round</th>\n",
              "      <th>points_y</th>\n",
              "      <th>position</th>\n",
              "      <th>wins</th>\n",
              "      <th>result_driver_standing</th>\n",
              "      <th>resultId_hash_0</th>\n",
              "      <th>...</th>\n",
              "      <th>status_hash_0</th>\n",
              "      <th>status_hash_1</th>\n",
              "      <th>status_hash_2</th>\n",
              "      <th>status_hash_3</th>\n",
              "      <th>status_hash_4</th>\n",
              "      <th>status_hash_5</th>\n",
              "      <th>status_hash_6</th>\n",
              "      <th>status_hash_7</th>\n",
              "      <th>status_hash_8</th>\n",
              "      <th>status_hash_9</th>\n",
              "    </tr>\n",
              "  </thead>\n",
              "  <tbody>\n",
              "    <tr>\n",
              "      <th>0</th>\n",
              "      <td>1</td>\n",
              "      <td>9.0</td>\n",
              "      <td>70</td>\n",
              "      <td>1950</td>\n",
              "      <td>1</td>\n",
              "      <td>3.33</td>\n",
              "      <td>3</td>\n",
              "      <td>0</td>\n",
              "      <td>922731975</td>\n",
              "      <td>1.0</td>\n",
              "      <td>...</td>\n",
              "      <td>0.0</td>\n",
              "      <td>0.0</td>\n",
              "      <td>0.0</td>\n",
              "      <td>0.0</td>\n",
              "      <td>0.0</td>\n",
              "      <td>0.0</td>\n",
              "      <td>0.0</td>\n",
              "      <td>0.0</td>\n",
              "      <td>0.0</td>\n",
              "      <td>-1.0</td>\n",
              "    </tr>\n",
              "    <tr>\n",
              "      <th>1</th>\n",
              "      <td>1</td>\n",
              "      <td>9.0</td>\n",
              "      <td>70</td>\n",
              "      <td>1950</td>\n",
              "      <td>1</td>\n",
              "      <td>6.33</td>\n",
              "      <td>3</td>\n",
              "      <td>0</td>\n",
              "      <td>923172525</td>\n",
              "      <td>1.0</td>\n",
              "      <td>...</td>\n",
              "      <td>0.0</td>\n",
              "      <td>0.0</td>\n",
              "      <td>0.0</td>\n",
              "      <td>0.0</td>\n",
              "      <td>0.0</td>\n",
              "      <td>0.0</td>\n",
              "      <td>0.0</td>\n",
              "      <td>0.0</td>\n",
              "      <td>0.0</td>\n",
              "      <td>-1.0</td>\n",
              "    </tr>\n",
              "    <tr>\n",
              "      <th>2</th>\n",
              "      <td>1</td>\n",
              "      <td>9.0</td>\n",
              "      <td>70</td>\n",
              "      <td>1950</td>\n",
              "      <td>1</td>\n",
              "      <td>6.33</td>\n",
              "      <td>4</td>\n",
              "      <td>0</td>\n",
              "      <td>923833350</td>\n",
              "      <td>1.0</td>\n",
              "      <td>...</td>\n",
              "      <td>0.0</td>\n",
              "      <td>0.0</td>\n",
              "      <td>0.0</td>\n",
              "      <td>0.0</td>\n",
              "      <td>0.0</td>\n",
              "      <td>0.0</td>\n",
              "      <td>0.0</td>\n",
              "      <td>0.0</td>\n",
              "      <td>0.0</td>\n",
              "      <td>-1.0</td>\n",
              "    </tr>\n",
              "    <tr>\n",
              "      <th>3</th>\n",
              "      <td>1</td>\n",
              "      <td>9.0</td>\n",
              "      <td>70</td>\n",
              "      <td>1950</td>\n",
              "      <td>1</td>\n",
              "      <td>10.33</td>\n",
              "      <td>3</td>\n",
              "      <td>0</td>\n",
              "      <td>925195050</td>\n",
              "      <td>1.0</td>\n",
              "      <td>...</td>\n",
              "      <td>0.0</td>\n",
              "      <td>0.0</td>\n",
              "      <td>0.0</td>\n",
              "      <td>0.0</td>\n",
              "      <td>0.0</td>\n",
              "      <td>0.0</td>\n",
              "      <td>0.0</td>\n",
              "      <td>0.0</td>\n",
              "      <td>0.0</td>\n",
              "      <td>-1.0</td>\n",
              "    </tr>\n",
              "    <tr>\n",
              "      <th>4</th>\n",
              "      <td>1</td>\n",
              "      <td>9.0</td>\n",
              "      <td>70</td>\n",
              "      <td>1950</td>\n",
              "      <td>1</td>\n",
              "      <td>10.33</td>\n",
              "      <td>4</td>\n",
              "      <td>0</td>\n",
              "      <td>926576775</td>\n",
              "      <td>1.0</td>\n",
              "      <td>...</td>\n",
              "      <td>0.0</td>\n",
              "      <td>0.0</td>\n",
              "      <td>0.0</td>\n",
              "      <td>0.0</td>\n",
              "      <td>0.0</td>\n",
              "      <td>0.0</td>\n",
              "      <td>0.0</td>\n",
              "      <td>0.0</td>\n",
              "      <td>0.0</td>\n",
              "      <td>-1.0</td>\n",
              "    </tr>\n",
              "  </tbody>\n",
              "</table>\n",
              "<p>5 rows × 109 columns</p>\n",
              "</div>\n",
              "    <div class=\"colab-df-buttons\">\n",
              "\n",
              "  <div class=\"colab-df-container\">\n",
              "    <button class=\"colab-df-convert\" onclick=\"convertToInteractive('df-830e4f5b-825b-483a-a339-ff535aae9184')\"\n",
              "            title=\"Convert this dataframe to an interactive table.\"\n",
              "            style=\"display:none;\">\n",
              "\n",
              "  <svg xmlns=\"http://www.w3.org/2000/svg\" height=\"24px\" viewBox=\"0 -960 960 960\">\n",
              "    <path d=\"M120-120v-720h720v720H120Zm60-500h600v-160H180v160Zm220 220h160v-160H400v160Zm0 220h160v-160H400v160ZM180-400h160v-160H180v160Zm440 0h160v-160H620v160ZM180-180h160v-160H180v160Zm440 0h160v-160H620v160Z\"/>\n",
              "  </svg>\n",
              "    </button>\n",
              "\n",
              "  <style>\n",
              "    .colab-df-container {\n",
              "      display:flex;\n",
              "      gap: 12px;\n",
              "    }\n",
              "\n",
              "    .colab-df-convert {\n",
              "      background-color: #E8F0FE;\n",
              "      border: none;\n",
              "      border-radius: 50%;\n",
              "      cursor: pointer;\n",
              "      display: none;\n",
              "      fill: #1967D2;\n",
              "      height: 32px;\n",
              "      padding: 0 0 0 0;\n",
              "      width: 32px;\n",
              "    }\n",
              "\n",
              "    .colab-df-convert:hover {\n",
              "      background-color: #E2EBFA;\n",
              "      box-shadow: 0px 1px 2px rgba(60, 64, 67, 0.3), 0px 1px 3px 1px rgba(60, 64, 67, 0.15);\n",
              "      fill: #174EA6;\n",
              "    }\n",
              "\n",
              "    .colab-df-buttons div {\n",
              "      margin-bottom: 4px;\n",
              "    }\n",
              "\n",
              "    [theme=dark] .colab-df-convert {\n",
              "      background-color: #3B4455;\n",
              "      fill: #D2E3FC;\n",
              "    }\n",
              "\n",
              "    [theme=dark] .colab-df-convert:hover {\n",
              "      background-color: #434B5C;\n",
              "      box-shadow: 0px 1px 3px 1px rgba(0, 0, 0, 0.15);\n",
              "      filter: drop-shadow(0px 1px 2px rgba(0, 0, 0, 0.3));\n",
              "      fill: #FFFFFF;\n",
              "    }\n",
              "  </style>\n",
              "\n",
              "    <script>\n",
              "      const buttonEl =\n",
              "        document.querySelector('#df-830e4f5b-825b-483a-a339-ff535aae9184 button.colab-df-convert');\n",
              "      buttonEl.style.display =\n",
              "        google.colab.kernel.accessAllowed ? 'block' : 'none';\n",
              "\n",
              "      async function convertToInteractive(key) {\n",
              "        const element = document.querySelector('#df-830e4f5b-825b-483a-a339-ff535aae9184');\n",
              "        const dataTable =\n",
              "          await google.colab.kernel.invokeFunction('convertToInteractive',\n",
              "                                                    [key], {});\n",
              "        if (!dataTable) return;\n",
              "\n",
              "        const docLinkHtml = 'Like what you see? Visit the ' +\n",
              "          '<a target=\"_blank\" href=https://colab.research.google.com/notebooks/data_table.ipynb>data table notebook</a>'\n",
              "          + ' to learn more about interactive tables.';\n",
              "        element.innerHTML = '';\n",
              "        dataTable['output_type'] = 'display_data';\n",
              "        await google.colab.output.renderOutput(dataTable, element);\n",
              "        const docLink = document.createElement('div');\n",
              "        docLink.innerHTML = docLinkHtml;\n",
              "        element.appendChild(docLink);\n",
              "      }\n",
              "    </script>\n",
              "  </div>\n",
              "\n",
              "\n",
              "<div id=\"df-6458f9a5-15f3-486e-a401-6e6c952a1c67\">\n",
              "  <button class=\"colab-df-quickchart\" onclick=\"quickchart('df-6458f9a5-15f3-486e-a401-6e6c952a1c67')\"\n",
              "            title=\"Suggest charts\"\n",
              "            style=\"display:none;\">\n",
              "\n",
              "<svg xmlns=\"http://www.w3.org/2000/svg\" height=\"24px\"viewBox=\"0 0 24 24\"\n",
              "     width=\"24px\">\n",
              "    <g>\n",
              "        <path d=\"M19 3H5c-1.1 0-2 .9-2 2v14c0 1.1.9 2 2 2h14c1.1 0 2-.9 2-2V5c0-1.1-.9-2-2-2zM9 17H7v-7h2v7zm4 0h-2V7h2v10zm4 0h-2v-4h2v4z\"/>\n",
              "    </g>\n",
              "</svg>\n",
              "  </button>\n",
              "\n",
              "<style>\n",
              "  .colab-df-quickchart {\n",
              "      --bg-color: #E8F0FE;\n",
              "      --fill-color: #1967D2;\n",
              "      --hover-bg-color: #E2EBFA;\n",
              "      --hover-fill-color: #174EA6;\n",
              "      --disabled-fill-color: #AAA;\n",
              "      --disabled-bg-color: #DDD;\n",
              "  }\n",
              "\n",
              "  [theme=dark] .colab-df-quickchart {\n",
              "      --bg-color: #3B4455;\n",
              "      --fill-color: #D2E3FC;\n",
              "      --hover-bg-color: #434B5C;\n",
              "      --hover-fill-color: #FFFFFF;\n",
              "      --disabled-bg-color: #3B4455;\n",
              "      --disabled-fill-color: #666;\n",
              "  }\n",
              "\n",
              "  .colab-df-quickchart {\n",
              "    background-color: var(--bg-color);\n",
              "    border: none;\n",
              "    border-radius: 50%;\n",
              "    cursor: pointer;\n",
              "    display: none;\n",
              "    fill: var(--fill-color);\n",
              "    height: 32px;\n",
              "    padding: 0;\n",
              "    width: 32px;\n",
              "  }\n",
              "\n",
              "  .colab-df-quickchart:hover {\n",
              "    background-color: var(--hover-bg-color);\n",
              "    box-shadow: 0 1px 2px rgba(60, 64, 67, 0.3), 0 1px 3px 1px rgba(60, 64, 67, 0.15);\n",
              "    fill: var(--button-hover-fill-color);\n",
              "  }\n",
              "\n",
              "  .colab-df-quickchart-complete:disabled,\n",
              "  .colab-df-quickchart-complete:disabled:hover {\n",
              "    background-color: var(--disabled-bg-color);\n",
              "    fill: var(--disabled-fill-color);\n",
              "    box-shadow: none;\n",
              "  }\n",
              "\n",
              "  .colab-df-spinner {\n",
              "    border: 2px solid var(--fill-color);\n",
              "    border-color: transparent;\n",
              "    border-bottom-color: var(--fill-color);\n",
              "    animation:\n",
              "      spin 1s steps(1) infinite;\n",
              "  }\n",
              "\n",
              "  @keyframes spin {\n",
              "    0% {\n",
              "      border-color: transparent;\n",
              "      border-bottom-color: var(--fill-color);\n",
              "      border-left-color: var(--fill-color);\n",
              "    }\n",
              "    20% {\n",
              "      border-color: transparent;\n",
              "      border-left-color: var(--fill-color);\n",
              "      border-top-color: var(--fill-color);\n",
              "    }\n",
              "    30% {\n",
              "      border-color: transparent;\n",
              "      border-left-color: var(--fill-color);\n",
              "      border-top-color: var(--fill-color);\n",
              "      border-right-color: var(--fill-color);\n",
              "    }\n",
              "    40% {\n",
              "      border-color: transparent;\n",
              "      border-right-color: var(--fill-color);\n",
              "      border-top-color: var(--fill-color);\n",
              "    }\n",
              "    60% {\n",
              "      border-color: transparent;\n",
              "      border-right-color: var(--fill-color);\n",
              "    }\n",
              "    80% {\n",
              "      border-color: transparent;\n",
              "      border-right-color: var(--fill-color);\n",
              "      border-bottom-color: var(--fill-color);\n",
              "    }\n",
              "    90% {\n",
              "      border-color: transparent;\n",
              "      border-bottom-color: var(--fill-color);\n",
              "    }\n",
              "  }\n",
              "</style>\n",
              "\n",
              "  <script>\n",
              "    async function quickchart(key) {\n",
              "      const quickchartButtonEl =\n",
              "        document.querySelector('#' + key + ' button');\n",
              "      quickchartButtonEl.disabled = true;  // To prevent multiple clicks.\n",
              "      quickchartButtonEl.classList.add('colab-df-spinner');\n",
              "      try {\n",
              "        const charts = await google.colab.kernel.invokeFunction(\n",
              "            'suggestCharts', [key], {});\n",
              "      } catch (error) {\n",
              "        console.error('Error during call to suggestCharts:', error);\n",
              "      }\n",
              "      quickchartButtonEl.classList.remove('colab-df-spinner');\n",
              "      quickchartButtonEl.classList.add('colab-df-quickchart-complete');\n",
              "    }\n",
              "    (() => {\n",
              "      let quickchartButtonEl =\n",
              "        document.querySelector('#df-6458f9a5-15f3-486e-a401-6e6c952a1c67 button');\n",
              "      quickchartButtonEl.style.display =\n",
              "        google.colab.kernel.accessAllowed ? 'block' : 'none';\n",
              "    })();\n",
              "  </script>\n",
              "</div>\n",
              "\n",
              "    </div>\n",
              "  </div>\n"
            ],
            "text/plain": [
              "   grid  points  laps  year  round  points_y  position  wins  \\\n",
              "0     1     9.0    70  1950      1      3.33         3     0   \n",
              "1     1     9.0    70  1950      1      6.33         3     0   \n",
              "2     1     9.0    70  1950      1      6.33         4     0   \n",
              "3     1     9.0    70  1950      1     10.33         3     0   \n",
              "4     1     9.0    70  1950      1     10.33         4     0   \n",
              "\n",
              "   result_driver_standing  resultId_hash_0  ...  status_hash_0  status_hash_1  \\\n",
              "0               922731975              1.0  ...            0.0            0.0   \n",
              "1               923172525              1.0  ...            0.0            0.0   \n",
              "2               923833350              1.0  ...            0.0            0.0   \n",
              "3               925195050              1.0  ...            0.0            0.0   \n",
              "4               926576775              1.0  ...            0.0            0.0   \n",
              "\n",
              "   status_hash_2  status_hash_3  status_hash_4  status_hash_5  status_hash_6  \\\n",
              "0            0.0            0.0            0.0            0.0            0.0   \n",
              "1            0.0            0.0            0.0            0.0            0.0   \n",
              "2            0.0            0.0            0.0            0.0            0.0   \n",
              "3            0.0            0.0            0.0            0.0            0.0   \n",
              "4            0.0            0.0            0.0            0.0            0.0   \n",
              "\n",
              "   status_hash_7  status_hash_8  status_hash_9  \n",
              "0            0.0            0.0           -1.0  \n",
              "1            0.0            0.0           -1.0  \n",
              "2            0.0            0.0           -1.0  \n",
              "3            0.0            0.0           -1.0  \n",
              "4            0.0            0.0           -1.0  \n",
              "\n",
              "[5 rows x 109 columns]"
            ]
          },
          "execution_count": 40,
          "metadata": {},
          "output_type": "execute_result"
        }
      ],
      "source": [
        "from sklearn.feature_extraction import FeatureHasher\n",
        "\n",
        "columns_to_encode = ['resultId', 'racerId', 'circuitId', 'driverRef', 'nationality',\n",
        "                     'driverStandingsId', 'raceId_y', 'constructorRef', 'nationality_y', 'status']\n",
        "\n",
        "hasher = FeatureHasher(input_type='string', n_features=10)\n",
        "\n",
        "for col in columns_to_encode:\n",
        "    hashed_features = hasher.transform(td[col].astype(str).apply(lambda x: [x])).toarray()\n",
        "    hashed_df = pd.DataFrame(hashed_features, columns=[f\"{col}_hash_{i}\" for i in range(hashed_features.shape[1])])\n",
        "    td = pd.concat([td.drop(col, axis=1), hashed_df], axis=1)\n",
        "\n",
        "td.head()"
      ]
    },
    {
      "cell_type": "code",
      "execution_count": 41,
      "metadata": {
        "colab": {
          "base_uri": "https://localhost:8080/",
          "height": 256
        },
        "id": "6Dn2ybxKHcXW",
        "outputId": "1cf2665d-b3c6-4f05-eed0-0887e7340a45"
      },
      "outputs": [
        {
          "data": {
            "application/vnd.google.colaboratory.intrinsic+json": {
              "type": "dataframe",
              "variable_name": "val_data"
            },
            "text/html": [
              "\n",
              "  <div id=\"df-72a28622-b646-46b3-8c82-21372c278518\" class=\"colab-df-container\">\n",
              "    <div>\n",
              "<style scoped>\n",
              "    .dataframe tbody tr th:only-of-type {\n",
              "        vertical-align: middle;\n",
              "    }\n",
              "\n",
              "    .dataframe tbody tr th {\n",
              "        vertical-align: top;\n",
              "    }\n",
              "\n",
              "    .dataframe thead th {\n",
              "        text-align: right;\n",
              "    }\n",
              "</style>\n",
              "<table border=\"1\" class=\"dataframe\">\n",
              "  <thead>\n",
              "    <tr style=\"text-align: right;\">\n",
              "      <th></th>\n",
              "      <th>grid</th>\n",
              "      <th>points</th>\n",
              "      <th>laps</th>\n",
              "      <th>year</th>\n",
              "      <th>round</th>\n",
              "      <th>points_y</th>\n",
              "      <th>position</th>\n",
              "      <th>wins</th>\n",
              "      <th>result_driver_standing</th>\n",
              "      <th>resultId_hash_0</th>\n",
              "      <th>...</th>\n",
              "      <th>status_hash_0</th>\n",
              "      <th>status_hash_1</th>\n",
              "      <th>status_hash_2</th>\n",
              "      <th>status_hash_3</th>\n",
              "      <th>status_hash_4</th>\n",
              "      <th>status_hash_5</th>\n",
              "      <th>status_hash_6</th>\n",
              "      <th>status_hash_7</th>\n",
              "      <th>status_hash_8</th>\n",
              "      <th>status_hash_9</th>\n",
              "    </tr>\n",
              "  </thead>\n",
              "  <tbody>\n",
              "    <tr>\n",
              "      <th>0</th>\n",
              "      <td>4</td>\n",
              "      <td>18.0</td>\n",
              "      <td>71</td>\n",
              "      <td>2013</td>\n",
              "      <td>19</td>\n",
              "      <td>28.0</td>\n",
              "      <td>8</td>\n",
              "      <td>0</td>\n",
              "      <td>1410907944</td>\n",
              "      <td>0.0</td>\n",
              "      <td>...</td>\n",
              "      <td>0.0</td>\n",
              "      <td>0.0</td>\n",
              "      <td>0.0</td>\n",
              "      <td>0.0</td>\n",
              "      <td>0.0</td>\n",
              "      <td>0.0</td>\n",
              "      <td>0.0</td>\n",
              "      <td>0.0</td>\n",
              "      <td>0.0</td>\n",
              "      <td>-1.0</td>\n",
              "    </tr>\n",
              "    <tr>\n",
              "      <th>1</th>\n",
              "      <td>4</td>\n",
              "      <td>18.0</td>\n",
              "      <td>71</td>\n",
              "      <td>2013</td>\n",
              "      <td>19</td>\n",
              "      <td>53.0</td>\n",
              "      <td>4</td>\n",
              "      <td>1</td>\n",
              "      <td>1411438560</td>\n",
              "      <td>0.0</td>\n",
              "      <td>...</td>\n",
              "      <td>0.0</td>\n",
              "      <td>0.0</td>\n",
              "      <td>0.0</td>\n",
              "      <td>0.0</td>\n",
              "      <td>0.0</td>\n",
              "      <td>0.0</td>\n",
              "      <td>0.0</td>\n",
              "      <td>0.0</td>\n",
              "      <td>0.0</td>\n",
              "      <td>-1.0</td>\n",
              "    </tr>\n",
              "    <tr>\n",
              "      <th>2</th>\n",
              "      <td>4</td>\n",
              "      <td>18.0</td>\n",
              "      <td>71</td>\n",
              "      <td>2013</td>\n",
              "      <td>19</td>\n",
              "      <td>78.0</td>\n",
              "      <td>1</td>\n",
              "      <td>2</td>\n",
              "      <td>1412499792</td>\n",
              "      <td>0.0</td>\n",
              "      <td>...</td>\n",
              "      <td>0.0</td>\n",
              "      <td>0.0</td>\n",
              "      <td>0.0</td>\n",
              "      <td>0.0</td>\n",
              "      <td>0.0</td>\n",
              "      <td>0.0</td>\n",
              "      <td>0.0</td>\n",
              "      <td>0.0</td>\n",
              "      <td>0.0</td>\n",
              "      <td>-1.0</td>\n",
              "    </tr>\n",
              "    <tr>\n",
              "      <th>3</th>\n",
              "      <td>4</td>\n",
              "      <td>18.0</td>\n",
              "      <td>71</td>\n",
              "      <td>2013</td>\n",
              "      <td>19</td>\n",
              "      <td>93.0</td>\n",
              "      <td>1</td>\n",
              "      <td>2</td>\n",
              "      <td>1413030408</td>\n",
              "      <td>0.0</td>\n",
              "      <td>...</td>\n",
              "      <td>0.0</td>\n",
              "      <td>0.0</td>\n",
              "      <td>0.0</td>\n",
              "      <td>0.0</td>\n",
              "      <td>0.0</td>\n",
              "      <td>0.0</td>\n",
              "      <td>0.0</td>\n",
              "      <td>0.0</td>\n",
              "      <td>0.0</td>\n",
              "      <td>-1.0</td>\n",
              "    </tr>\n",
              "    <tr>\n",
              "      <th>4</th>\n",
              "      <td>4</td>\n",
              "      <td>18.0</td>\n",
              "      <td>71</td>\n",
              "      <td>2013</td>\n",
              "      <td>19</td>\n",
              "      <td>103.0</td>\n",
              "      <td>3</td>\n",
              "      <td>2</td>\n",
              "      <td>1413561024</td>\n",
              "      <td>0.0</td>\n",
              "      <td>...</td>\n",
              "      <td>0.0</td>\n",
              "      <td>0.0</td>\n",
              "      <td>0.0</td>\n",
              "      <td>0.0</td>\n",
              "      <td>0.0</td>\n",
              "      <td>0.0</td>\n",
              "      <td>0.0</td>\n",
              "      <td>0.0</td>\n",
              "      <td>0.0</td>\n",
              "      <td>-1.0</td>\n",
              "    </tr>\n",
              "  </tbody>\n",
              "</table>\n",
              "<p>5 rows × 109 columns</p>\n",
              "</div>\n",
              "    <div class=\"colab-df-buttons\">\n",
              "\n",
              "  <div class=\"colab-df-container\">\n",
              "    <button class=\"colab-df-convert\" onclick=\"convertToInteractive('df-72a28622-b646-46b3-8c82-21372c278518')\"\n",
              "            title=\"Convert this dataframe to an interactive table.\"\n",
              "            style=\"display:none;\">\n",
              "\n",
              "  <svg xmlns=\"http://www.w3.org/2000/svg\" height=\"24px\" viewBox=\"0 -960 960 960\">\n",
              "    <path d=\"M120-120v-720h720v720H120Zm60-500h600v-160H180v160Zm220 220h160v-160H400v160Zm0 220h160v-160H400v160ZM180-400h160v-160H180v160Zm440 0h160v-160H620v160ZM180-180h160v-160H180v160Zm440 0h160v-160H620v160Z\"/>\n",
              "  </svg>\n",
              "    </button>\n",
              "\n",
              "  <style>\n",
              "    .colab-df-container {\n",
              "      display:flex;\n",
              "      gap: 12px;\n",
              "    }\n",
              "\n",
              "    .colab-df-convert {\n",
              "      background-color: #E8F0FE;\n",
              "      border: none;\n",
              "      border-radius: 50%;\n",
              "      cursor: pointer;\n",
              "      display: none;\n",
              "      fill: #1967D2;\n",
              "      height: 32px;\n",
              "      padding: 0 0 0 0;\n",
              "      width: 32px;\n",
              "    }\n",
              "\n",
              "    .colab-df-convert:hover {\n",
              "      background-color: #E2EBFA;\n",
              "      box-shadow: 0px 1px 2px rgba(60, 64, 67, 0.3), 0px 1px 3px 1px rgba(60, 64, 67, 0.15);\n",
              "      fill: #174EA6;\n",
              "    }\n",
              "\n",
              "    .colab-df-buttons div {\n",
              "      margin-bottom: 4px;\n",
              "    }\n",
              "\n",
              "    [theme=dark] .colab-df-convert {\n",
              "      background-color: #3B4455;\n",
              "      fill: #D2E3FC;\n",
              "    }\n",
              "\n",
              "    [theme=dark] .colab-df-convert:hover {\n",
              "      background-color: #434B5C;\n",
              "      box-shadow: 0px 1px 3px 1px rgba(0, 0, 0, 0.15);\n",
              "      filter: drop-shadow(0px 1px 2px rgba(0, 0, 0, 0.3));\n",
              "      fill: #FFFFFF;\n",
              "    }\n",
              "  </style>\n",
              "\n",
              "    <script>\n",
              "      const buttonEl =\n",
              "        document.querySelector('#df-72a28622-b646-46b3-8c82-21372c278518 button.colab-df-convert');\n",
              "      buttonEl.style.display =\n",
              "        google.colab.kernel.accessAllowed ? 'block' : 'none';\n",
              "\n",
              "      async function convertToInteractive(key) {\n",
              "        const element = document.querySelector('#df-72a28622-b646-46b3-8c82-21372c278518');\n",
              "        const dataTable =\n",
              "          await google.colab.kernel.invokeFunction('convertToInteractive',\n",
              "                                                    [key], {});\n",
              "        if (!dataTable) return;\n",
              "\n",
              "        const docLinkHtml = 'Like what you see? Visit the ' +\n",
              "          '<a target=\"_blank\" href=https://colab.research.google.com/notebooks/data_table.ipynb>data table notebook</a>'\n",
              "          + ' to learn more about interactive tables.';\n",
              "        element.innerHTML = '';\n",
              "        dataTable['output_type'] = 'display_data';\n",
              "        await google.colab.output.renderOutput(dataTable, element);\n",
              "        const docLink = document.createElement('div');\n",
              "        docLink.innerHTML = docLinkHtml;\n",
              "        element.appendChild(docLink);\n",
              "      }\n",
              "    </script>\n",
              "  </div>\n",
              "\n",
              "\n",
              "<div id=\"df-9c1d6ed1-0730-4bfe-8404-4f8080fbe546\">\n",
              "  <button class=\"colab-df-quickchart\" onclick=\"quickchart('df-9c1d6ed1-0730-4bfe-8404-4f8080fbe546')\"\n",
              "            title=\"Suggest charts\"\n",
              "            style=\"display:none;\">\n",
              "\n",
              "<svg xmlns=\"http://www.w3.org/2000/svg\" height=\"24px\"viewBox=\"0 0 24 24\"\n",
              "     width=\"24px\">\n",
              "    <g>\n",
              "        <path d=\"M19 3H5c-1.1 0-2 .9-2 2v14c0 1.1.9 2 2 2h14c1.1 0 2-.9 2-2V5c0-1.1-.9-2-2-2zM9 17H7v-7h2v7zm4 0h-2V7h2v10zm4 0h-2v-4h2v4z\"/>\n",
              "    </g>\n",
              "</svg>\n",
              "  </button>\n",
              "\n",
              "<style>\n",
              "  .colab-df-quickchart {\n",
              "      --bg-color: #E8F0FE;\n",
              "      --fill-color: #1967D2;\n",
              "      --hover-bg-color: #E2EBFA;\n",
              "      --hover-fill-color: #174EA6;\n",
              "      --disabled-fill-color: #AAA;\n",
              "      --disabled-bg-color: #DDD;\n",
              "  }\n",
              "\n",
              "  [theme=dark] .colab-df-quickchart {\n",
              "      --bg-color: #3B4455;\n",
              "      --fill-color: #D2E3FC;\n",
              "      --hover-bg-color: #434B5C;\n",
              "      --hover-fill-color: #FFFFFF;\n",
              "      --disabled-bg-color: #3B4455;\n",
              "      --disabled-fill-color: #666;\n",
              "  }\n",
              "\n",
              "  .colab-df-quickchart {\n",
              "    background-color: var(--bg-color);\n",
              "    border: none;\n",
              "    border-radius: 50%;\n",
              "    cursor: pointer;\n",
              "    display: none;\n",
              "    fill: var(--fill-color);\n",
              "    height: 32px;\n",
              "    padding: 0;\n",
              "    width: 32px;\n",
              "  }\n",
              "\n",
              "  .colab-df-quickchart:hover {\n",
              "    background-color: var(--hover-bg-color);\n",
              "    box-shadow: 0 1px 2px rgba(60, 64, 67, 0.3), 0 1px 3px 1px rgba(60, 64, 67, 0.15);\n",
              "    fill: var(--button-hover-fill-color);\n",
              "  }\n",
              "\n",
              "  .colab-df-quickchart-complete:disabled,\n",
              "  .colab-df-quickchart-complete:disabled:hover {\n",
              "    background-color: var(--disabled-bg-color);\n",
              "    fill: var(--disabled-fill-color);\n",
              "    box-shadow: none;\n",
              "  }\n",
              "\n",
              "  .colab-df-spinner {\n",
              "    border: 2px solid var(--fill-color);\n",
              "    border-color: transparent;\n",
              "    border-bottom-color: var(--fill-color);\n",
              "    animation:\n",
              "      spin 1s steps(1) infinite;\n",
              "  }\n",
              "\n",
              "  @keyframes spin {\n",
              "    0% {\n",
              "      border-color: transparent;\n",
              "      border-bottom-color: var(--fill-color);\n",
              "      border-left-color: var(--fill-color);\n",
              "    }\n",
              "    20% {\n",
              "      border-color: transparent;\n",
              "      border-left-color: var(--fill-color);\n",
              "      border-top-color: var(--fill-color);\n",
              "    }\n",
              "    30% {\n",
              "      border-color: transparent;\n",
              "      border-left-color: var(--fill-color);\n",
              "      border-top-color: var(--fill-color);\n",
              "      border-right-color: var(--fill-color);\n",
              "    }\n",
              "    40% {\n",
              "      border-color: transparent;\n",
              "      border-right-color: var(--fill-color);\n",
              "      border-top-color: var(--fill-color);\n",
              "    }\n",
              "    60% {\n",
              "      border-color: transparent;\n",
              "      border-right-color: var(--fill-color);\n",
              "    }\n",
              "    80% {\n",
              "      border-color: transparent;\n",
              "      border-right-color: var(--fill-color);\n",
              "      border-bottom-color: var(--fill-color);\n",
              "    }\n",
              "    90% {\n",
              "      border-color: transparent;\n",
              "      border-bottom-color: var(--fill-color);\n",
              "    }\n",
              "  }\n",
              "</style>\n",
              "\n",
              "  <script>\n",
              "    async function quickchart(key) {\n",
              "      const quickchartButtonEl =\n",
              "        document.querySelector('#' + key + ' button');\n",
              "      quickchartButtonEl.disabled = true;  // To prevent multiple clicks.\n",
              "      quickchartButtonEl.classList.add('colab-df-spinner');\n",
              "      try {\n",
              "        const charts = await google.colab.kernel.invokeFunction(\n",
              "            'suggestCharts', [key], {});\n",
              "      } catch (error) {\n",
              "        console.error('Error during call to suggestCharts:', error);\n",
              "      }\n",
              "      quickchartButtonEl.classList.remove('colab-df-spinner');\n",
              "      quickchartButtonEl.classList.add('colab-df-quickchart-complete');\n",
              "    }\n",
              "    (() => {\n",
              "      let quickchartButtonEl =\n",
              "        document.querySelector('#df-9c1d6ed1-0730-4bfe-8404-4f8080fbe546 button');\n",
              "      quickchartButtonEl.style.display =\n",
              "        google.colab.kernel.accessAllowed ? 'block' : 'none';\n",
              "    })();\n",
              "  </script>\n",
              "</div>\n",
              "\n",
              "    </div>\n",
              "  </div>\n"
            ],
            "text/plain": [
              "   grid  points  laps  year  round  points_y  position  wins  \\\n",
              "0     4    18.0    71  2013     19      28.0         8     0   \n",
              "1     4    18.0    71  2013     19      53.0         4     1   \n",
              "2     4    18.0    71  2013     19      78.0         1     2   \n",
              "3     4    18.0    71  2013     19      93.0         1     2   \n",
              "4     4    18.0    71  2013     19     103.0         3     2   \n",
              "\n",
              "   result_driver_standing  resultId_hash_0  ...  status_hash_0  status_hash_1  \\\n",
              "0              1410907944              0.0  ...            0.0            0.0   \n",
              "1              1411438560              0.0  ...            0.0            0.0   \n",
              "2              1412499792              0.0  ...            0.0            0.0   \n",
              "3              1413030408              0.0  ...            0.0            0.0   \n",
              "4              1413561024              0.0  ...            0.0            0.0   \n",
              "\n",
              "   status_hash_2  status_hash_3  status_hash_4  status_hash_5  status_hash_6  \\\n",
              "0            0.0            0.0            0.0            0.0            0.0   \n",
              "1            0.0            0.0            0.0            0.0            0.0   \n",
              "2            0.0            0.0            0.0            0.0            0.0   \n",
              "3            0.0            0.0            0.0            0.0            0.0   \n",
              "4            0.0            0.0            0.0            0.0            0.0   \n",
              "\n",
              "   status_hash_7  status_hash_8  status_hash_9  \n",
              "0            0.0            0.0           -1.0  \n",
              "1            0.0            0.0           -1.0  \n",
              "2            0.0            0.0           -1.0  \n",
              "3            0.0            0.0           -1.0  \n",
              "4            0.0            0.0           -1.0  \n",
              "\n",
              "[5 rows x 109 columns]"
            ]
          },
          "execution_count": 41,
          "metadata": {},
          "output_type": "execute_result"
        }
      ],
      "source": [
        "for col in columns_to_encode:\n",
        "    hashed_features = hasher.transform(test_data[col].astype(str).apply(lambda x: [x])).toarray()\n",
        "    hashed_df = pd.DataFrame(hashed_features, columns=[f\"{col}_hash_{i}\" for i in range(hashed_features.shape[1])])\n",
        "    test_data = pd.concat([test_data.drop(col, axis=1), hashed_df], axis=1)\n",
        "\n",
        "for col in columns_to_encode:\n",
        "    hashed_features = hasher.transform(val_data[col].astype(str).apply(lambda x: [x])).toarray()\n",
        "    hashed_df = pd.DataFrame(hashed_features, columns=[f\"{col}_hash_{i}\" for i in range(hashed_features.shape[1])])\n",
        "    val_data = pd.concat([val_data.drop(col, axis=1), hashed_df], axis=1)\n",
        "\n",
        "val_data.head()"
      ]
    },
    {
      "cell_type": "code",
      "execution_count": 42,
      "metadata": {
        "colab": {
          "base_uri": "https://localhost:8080/"
        },
        "id": "Fxocb2IfEH7I",
        "outputId": "889f2e8a-e6c8-4959-e85c-0a31b0cdd34c"
      },
      "outputs": [
        {
          "data": {
            "text/plain": [
              "Index(['grid', 'points', 'laps', 'year', 'round', 'points_y', 'position',\n",
              "       'wins', 'result_driver_standing', 'resultId_hash_0',\n",
              "       ...\n",
              "       'status_hash_0', 'status_hash_1', 'status_hash_2', 'status_hash_3',\n",
              "       'status_hash_4', 'status_hash_5', 'status_hash_6', 'status_hash_7',\n",
              "       'status_hash_8', 'status_hash_9'],\n",
              "      dtype='object', length=109)"
            ]
          },
          "execution_count": 42,
          "metadata": {},
          "output_type": "execute_result"
        }
      ],
      "source": [
        "td.columns"
      ]
    },
    {
      "cell_type": "code",
      "execution_count": 43,
      "metadata": {
        "colab": {
          "base_uri": "https://localhost:8080/"
        },
        "id": "xKgauWmkF3GQ",
        "outputId": "098b0cbd-9717-40d8-c2fb-a6dc9a7062e3"
      },
      "outputs": [
        {
          "data": {
            "text/plain": [
              "status_hash_0\n",
              " 0.0    2608480\n",
              " 1.0     208950\n",
              "-1.0      12671\n",
              "Name: count, dtype: int64"
            ]
          },
          "execution_count": 43,
          "metadata": {},
          "output_type": "execute_result"
        }
      ],
      "source": [
        "td.status_hash_0.value_counts()"
      ]
    },
    {
      "cell_type": "code",
      "execution_count": 44,
      "metadata": {
        "id": "pNrp98x4GJrH"
      },
      "outputs": [],
      "source": [
        "X_train = td.drop('position', axis=1).values\n",
        "y_train = td['position'].values"
      ]
    },
    {
      "cell_type": "code",
      "execution_count": 45,
      "metadata": {
        "id": "3hV4JjgyKeYW"
      },
      "outputs": [],
      "source": [
        "X_test = val_data.drop('position', axis=1).values\n",
        "y_test = val_data['position'].values"
      ]
    },
    {
      "cell_type": "code",
      "execution_count": 48,
      "metadata": {
        "colab": {
          "base_uri": "https://localhost:8080/"
        },
        "id": "yeKkhJr1N16y",
        "outputId": "84156c76-6990-4187-9795-158949055647"
      },
      "outputs": [
        {
          "name": "stdout",
          "output_type": "stream",
          "text": [
            "Collecting catboost\n",
            "  Downloading catboost-1.2.5-cp310-cp310-manylinux2014_x86_64.whl (98.2 MB)\n",
            "\u001b[2K     \u001b[90m━━━━━━━━━━━━━━━━━━━━━━━━━━━━━━━━━━━━━━━━\u001b[0m \u001b[32m98.2/98.2 MB\u001b[0m \u001b[31m12.7 MB/s\u001b[0m eta \u001b[36m0:00:00\u001b[0m\n",
            "\u001b[?25hRequirement already satisfied: graphviz in /usr/local/lib/python3.10/dist-packages (from catboost) (0.20.3)\n",
            "Requirement already satisfied: matplotlib in /usr/local/lib/python3.10/dist-packages (from catboost) (3.7.1)\n",
            "Requirement already satisfied: numpy>=1.16.0 in /usr/local/lib/python3.10/dist-packages (from catboost) (1.25.2)\n",
            "Requirement already satisfied: pandas>=0.24 in /usr/local/lib/python3.10/dist-packages (from catboost) (2.0.3)\n",
            "Requirement already satisfied: scipy in /usr/local/lib/python3.10/dist-packages (from catboost) (1.11.4)\n",
            "Requirement already satisfied: plotly in /usr/local/lib/python3.10/dist-packages (from catboost) (5.15.0)\n",
            "Requirement already satisfied: six in /usr/local/lib/python3.10/dist-packages (from catboost) (1.16.0)\n",
            "Requirement already satisfied: python-dateutil>=2.8.2 in /usr/local/lib/python3.10/dist-packages (from pandas>=0.24->catboost) (2.8.2)\n",
            "Requirement already satisfied: pytz>=2020.1 in /usr/local/lib/python3.10/dist-packages (from pandas>=0.24->catboost) (2023.4)\n",
            "Requirement already satisfied: tzdata>=2022.1 in /usr/local/lib/python3.10/dist-packages (from pandas>=0.24->catboost) (2024.1)\n",
            "Requirement already satisfied: contourpy>=1.0.1 in /usr/local/lib/python3.10/dist-packages (from matplotlib->catboost) (1.2.1)\n",
            "Requirement already satisfied: cycler>=0.10 in /usr/local/lib/python3.10/dist-packages (from matplotlib->catboost) (0.12.1)\n",
            "Requirement already satisfied: fonttools>=4.22.0 in /usr/local/lib/python3.10/dist-packages (from matplotlib->catboost) (4.53.0)\n",
            "Requirement already satisfied: kiwisolver>=1.0.1 in /usr/local/lib/python3.10/dist-packages (from matplotlib->catboost) (1.4.5)\n",
            "Requirement already satisfied: packaging>=20.0 in /usr/local/lib/python3.10/dist-packages (from matplotlib->catboost) (24.1)\n",
            "Requirement already satisfied: pillow>=6.2.0 in /usr/local/lib/python3.10/dist-packages (from matplotlib->catboost) (9.4.0)\n",
            "Requirement already satisfied: pyparsing>=2.3.1 in /usr/local/lib/python3.10/dist-packages (from matplotlib->catboost) (3.1.2)\n",
            "Requirement already satisfied: tenacity>=6.2.0 in /usr/local/lib/python3.10/dist-packages (from plotly->catboost) (8.4.1)\n",
            "Installing collected packages: catboost\n",
            "Successfully installed catboost-1.2.5\n"
          ]
        }
      ],
      "source": [
        "!pip install catboost"
      ]
    },
    {
      "cell_type": "code",
      "execution_count": null,
      "metadata": {
        "colab": {
          "base_uri": "https://localhost:8080/"
        },
        "id": "J6qgT7_lK5Y8",
        "outputId": "d56ffc70-bb76-4c17-e79c-4a407340d06d"
      },
      "outputs": [
        {
          "name": "stdout",
          "output_type": "stream",
          "text": [
            "Training XGBoost...\n",
            "XGBoost - Training RMSE: 4.002612042759312\n",
            "XGBoost - Testing RMSE: 2.5765224781950167\n",
            "\n",
            "Training LightGBM...\n",
            "[LightGBM] [Info] Auto-choosing row-wise multi-threading, the overhead of testing was 0.252342 seconds.\n",
            "You can set `force_row_wise=true` to remove the overhead.\n",
            "And if memory is not enough, you can set `force_col_wise=true`.\n",
            "[LightGBM] [Info] Total Bins 1114\n",
            "[LightGBM] [Info] Number of data points in the train set: 2830101, number of used features: 107\n",
            "[LightGBM] [Info] Start training from score 12.332001\n",
            "LightGBM - Training RMSE: 4.444087729282943\n",
            "LightGBM - Testing RMSE: 2.655906586396167\n",
            "\n",
            "Training CatBoost...\n"
          ]
        }
      ],
      "source": [
        "import xgboost as xgb\n",
        "import lightgbm as lgb\n",
        "from catboost import CatBoostRegressor\n",
        "from sklearn.metrics import mean_squared_error\n",
        "\n",
        "models = {\n",
        "    'XGBoost': xgb.XGBRegressor(),\n",
        "    'LightGBM': lgb.LGBMRegressor(),\n",
        "    'CatBoost': CatBoostRegressor(silent=True) }\n",
        "\n",
        "for model_name, model in models.items():\n",
        "    print(f\"Training {model_name}...\")\n",
        "\n",
        "    model.fit(X_train, y_train)\n",
        "\n",
        "    y_train_pred = model.predict(X_train)\n",
        "    train_rmse = mean_squared_error(y_train, y_train_pred, squared=False)\n",
        "    y_test_pred = model.predict(X_test)\n",
        "    test_rmse = mean_squared_error(y_test, y_test_pred, squared=False)\n",
        "\n",
        "    print(f\"{model_name} - Training RMSE: {train_rmse}\")\n",
        "    print(f\"{model_name} - Testing RMSE: {test_rmse}\")\n",
        "    print()\n"
      ]
    }
  ],
  "metadata": {
    "accelerator": "GPU",
    "colab": {
      "gpuType": "T4",
      "provenance": []
    },
    "kernelspec": {
      "display_name": "Python 3",
      "name": "python3"
    },
    "language_info": {
      "name": "python"
    }
  },
  "nbformat": 4,
  "nbformat_minor": 0
}
